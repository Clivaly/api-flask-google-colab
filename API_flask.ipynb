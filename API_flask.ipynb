{
  "cells": [
    {
      "cell_type": "code",
      "execution_count": null,
      "metadata": {
        "id": "vaTkcXQ_igjc"
      },
      "outputs": [],
      "source": [
        "!pip install flask_ngrok\n",
        "!pip install flask "
      ]
    },
    {
      "cell_type": "code",
      "execution_count": null,
      "metadata": {
        "id": "CS_uq48Li7o8"
      },
      "outputs": [],
      "source": [
        "import pandas as pd\n",
        "from flask_ngrok import run_with_ngrok\n",
        "from flask import (\n",
        "    request, jsonify, Flask\n",
        ")\n",
        "import random as rk"
      ]
    },
    {
      "cell_type": "code",
      "execution_count": 4,
      "metadata": {
        "id": "LjtKQEKHjXvF"
      },
      "outputs": [],
      "source": [
        "app = Flask(__name__)\n",
        "run_with_ngrok(app)"
      ]
    },
    {
      "cell_type": "code",
      "execution_count": 5,
      "metadata": {
        "id": "oV49N-hpjdlk"
      },
      "outputs": [],
      "source": [
        "json = [{\n",
        "    \"nome\": \"Miltom Hatoum\",\n",
        "    \"cpf\": \"123456\",\n",
        "    \"idade\": 50,\n",
        "    \"cidade\": \"Rio de Janeiro\",\n",
        "    \"estado\": \"RJ\"\n",
        "}, {\n",
        "    \"nome\": \"Clarice Lispector\",\n",
        "    \"cpf\": \"564231\",\n",
        "    \"idade\": 30,\n",
        "    \"cidade\": \"Belém\",\n",
        "    \"estado\": \"PA\"\n",
        "}, {\n",
        "    \"nome\": \"Jorge Amado\",\n",
        "    \"cpf\": \"654321\",\n",
        "    \"idade\": 61,\n",
        "    \"cidade\": \"Salvador\",\n",
        "    \"estado\": \"BA\"\n",
        "}, {\n",
        "    \"nome\": \"Aline Bei\",\n",
        "    \"cpf\": \"456342\",\n",
        "    \"idade\": 28,\n",
        "    \"cidade\": \"São Paulo\",\n",
        "    \"estado\": \"SP\"\n",
        "}]"
      ]
    },
    {
      "cell_type": "code",
      "execution_count": 14,
      "metadata": {
        "id": "5J961Qg8k0_9"
      },
      "outputs": [],
      "source": [
        "@app.route(\"/\")\n",
        "\n",
        "def index():\n",
        "    return \"<marquee><h3> TO CHECK IN PUT ADD '/input' TO THE URL AND TO CHECK OUT PUT ADD '/output' TO THE URL.</h3></marquee>\""
      ]
    },
    {
      "cell_type": "code",
      "execution_count": 17,
      "metadata": {
        "id": "u0lV8w9SltJ2"
      },
      "outputs": [],
      "source": [
        "@app.route(\"/input\")\n",
        "\n",
        "def input_json():\n",
        "  return jsonify(json)"
      ]
    },
    {
      "cell_type": "code",
      "execution_count": null,
      "metadata": {
        "id": "T48-HikymB4_"
      },
      "outputs": [],
      "source": [
        "@app.route('/output', methods=['GET','POST'])\n",
        "\n",
        "def pred_json():\n",
        " pred = rk.choice([\"positive\",\"negative\"])\n",
        " nd = json\n",
        " nd[\"prediction\"]=pred\n",
        " return jsonify(nd)"
      ]
    },
    {
      "cell_type": "code",
      "execution_count": null,
      "metadata": {
        "colab": {
          "base_uri": "https://localhost:8080/"
        },
        "id": "Y782FhCWngu-",
        "outputId": "3cd701a2-d73c-4caf-87e5-04c6caa2ca34"
      },
      "outputs": [],
      "source": [
        "app.run()"
      ]
    }
  ],
  "metadata": {
    "colab": {
      "provenance": []
    },
    "kernelspec": {
      "display_name": "Python 3.10.8 64-bit (microsoft store)",
      "language": "python",
      "name": "python3"
    },
    "language_info": {
      "name": "python",
      "version": "3.11.6"
    },
    "vscode": {
      "interpreter": {
        "hash": "6ed0eda7d075e1f39d97956a04b30b3d8810a3670f1b5ea4d85222d58a842900"
      }
    }
  },
  "nbformat": 4,
  "nbformat_minor": 0
}
